{
 "cells": [
  {
   "cell_type": "markdown",
   "metadata": {},
   "source": [
    "# Overview\n",
    "\n",
    "The goal here is to generate copies of research videos with small file sizes to allow DLC and data management to run more efficiently. This notebook includes code for experiments for where (1) the recording was saved as an image sequence and (2) where the recordings were saved in individual movie files. As demonstrated in [this preprint](https://www.biorxiv.org/content/10.1101/457242v1), videos used for DLC can yield similar results when highly downsampled and compressed while running much faster.\n",
    "\n",
    "## Software\n",
    "This code assumes that your system includes an installation of [Anaconda](https://www.anaconda.com), as well as [ffmpeg](https://www.ffmpeg.org/download.html). ffmpeg in an open-source platform for converting video.\n",
    "\n",
    "## Video catalog\n",
    "This code may be partially controlled by parameter values that are provided in a **video catalog**, which is a csv-formatted spreadsheet with each row corresponding to a particular experimental recording. The headings fod the columns on this spreadsheet are as follows:\n",
    "\n",
    "1. date - Date of recording.\n",
    "1. trial_num - Trail number for the experiments.\n",
    "1. fps - frame rate (Hz) for the recording.\n",
    "1. make_video - (1 or 0) Specifies whether to generate an output video.\n",
    "1. roi_x, roi_y, roi_w, roi_h - (optional, in pixels) Specifies the coordinates of the lower-left corner of a region-of-interest and its width and height. Output videos will be cropped to these dimensions.\n",
    "\n",
    "If the video catalog is not used (i.e., set parameter 'useCat = False'), then all available movies will be converted. In the case of image sequences, all directories within imPath that hold images will be used to create movies. In the case of movie files, all movies from vidInPath will be converted when the video catalog is not used.\n",
    "\n",
    "The end of the notebook includes code for selecting a region-of-interest."
   ]
  },
  {
   "cell_type": "markdown",
   "metadata": {},
   "source": [
    "## Packages\n",
    "We import the same packages for either image sequences or movie files. So, run the cell below for either case."
   ]
  },
  {
   "cell_type": "code",
   "execution_count": 1,
   "metadata": {},
   "outputs": [],
   "source": [
    "import pandas as pd\n",
    "import numpy as np\n",
    "import sys, os\n",
    "import cv2 as cv  \n",
    "from sources import videotools as vt\n",
    "import glob"
   ]
  },
  {
   "cell_type": "markdown",
   "metadata": {},
   "source": [
    "# Working with image sequences  ----------\n",
    "This example draws video frames from an image sequence. The code assumes that the image files are saved in directories that are named after the date of the recording, as formatted in the 'date' column of the video catalog.\n",
    "The video catalog may include the following:\n",
    "1. start_image_filename  - Name of image file at the **start** of recording.\n",
    "1. end_image_filename  - Name of image file at the **end** of recording.\n",
    "\n",
    "Images for this example, along with a sample video catalog, may be downloaded from [here](https://drive.google.com/file/d/1pdCJX97nwkdKqtxPtK0LZlN1oDZLoMPB/view?usp=sharing)."
   ]
  },
  {
   "cell_type": "markdown",
   "metadata": {},
   "source": [
    "## Parameters\n",
    "Modify the paths listed below for your project and system."
   ]
  },
  {
   "cell_type": "code",
   "execution_count": 4,
   "metadata": {},
   "outputs": [],
   "source": [
    "# Change to for each computer\n",
    "root_path = '/Users/mmchenry/Documents/code/kineKit_files/image_sequence'\n",
    "# root_path = '/Users/mmchenry/Documents/Projects/geotaxis/'\n",
    "\n",
    "# Whether to use the video catalog to control the batch execution\n",
    "useCat = True\n",
    "\n",
    "if useCat:\n",
    "    # Path to csv-formatted spreadsheet catalog of videos \n",
    "    catPath  = root_path + os.path.sep + 'video_catalog.csv'\n",
    "\n",
    "# Path to image sequence\n",
    "imPath   = root_path + os.path.sep + 'images'\n",
    "\n",
    "# Path to output the new videos, which will be analyzed with DLC\n",
    "vidPath  = root_path + os.path.sep + 'Videos'\n",
    "\n",
    "# If the output video is to be downsampled\n",
    "downSample = True\n",
    "\n",
    "# Number of pixels in verical dimension, if downsampling\n",
    "vertPix = 480\n",
    "\n",
    "# Suffix for source images or movies\n",
    "suffixIn = 'jpeg'\n",
    "\n",
    "# Suffix for output movies\n",
    "suffixOut = 'mp4'\n",
    "\n",
    "# Number of digits in input image filenames\n",
    "nDigits = 5;\n",
    "\n",
    "# Prefix at the star of each image filename\n",
    "prefix = 'DSC'\n",
    "\n",
    "# Image quality (low to high: 0 to 1) for output video\n",
    "# imQuality = 0.75\n",
    "imQuality = 0.35\n",
    "\n",
    "# Check for paths\n",
    "if not os.path.isdir(imPath):\n",
    "    raise ValueError('Image path not found: ' + imPath) \n",
    "elif not os.path.isdir(vidPath):\n",
    "    raise ValueError('Path not found: ' + vidPath) "
   ]
  },
  {
   "cell_type": "markdown",
   "metadata": {},
   "source": [
    "## Read catalog of image sequences\n",
    "\n",
    "Imports the contents of the spreadsheet for the pre-processing job."
   ]
  },
  {
   "cell_type": "code",
   "execution_count": 5,
   "metadata": {},
   "outputs": [],
   "source": [
    "if useCat:\n",
    "    # Open CSV file\n",
    "    file = open(catPath)\n",
    "\n",
    "    # Import CSV data\n",
    "    d = pd.read_csv(file)\n",
    "\n",
    "    # Extract only the 'make_video==1' rows\n",
    "    d = d.loc[d.make_video==1]\n",
    "\n",
    "    # Reset indices for the new rows\n",
    "    d = d.reset_index(drop=True)\n",
    "\n",
    "    # df2.set_index(pd.Index([0, 1, 2]))\n",
    "    # Number of videos to analyze\n",
    "    nVids = int(np.nansum(d.make_video))\n",
    "\n",
    "    # Extract mandatory parameters\n",
    "    vDate           = d.date.astype(str)\n",
    "    trialNum        = d.trial_num.astype(int)\n",
    "    fpsIn           = d.fps.astype(float)             \n",
    "\n",
    "    # If roi is provided. Imported as str, to allow for empty cells. Converted to int in next cell\n",
    "    if 'roi_x' in d:\n",
    "        roiX = d.roi_x.astype(str)\n",
    "        roiY = d.roi_y.astype(str)\n",
    "        roiW = d.roi_w.astype(str)\n",
    "        roiH = d.roi_h.astype(str)\n",
    "\n",
    "    # If image filenames are included\n",
    "    if 'start_image_filename' in d:\n",
    "        startImageName  = d.start_image_filename.astype(str)\n",
    "        endImageName    = d.end_image_filename.astype(str)\n",
    "    else:\n",
    "        startImageName = None\n",
    "        endImageName = None\n",
    "        \n",
    "    # Close CSV file\n",
    "    file.close()"
   ]
  },
  {
   "cell_type": "markdown",
   "metadata": {},
   "source": [
    "## Generate videos from image sequences"
   ]
  },
  {
   "cell_type": "code",
   "execution_count": 6,
   "metadata": {},
   "outputs": [
    {
     "name": "stdout",
     "output_type": "stream",
     "text": [
      "    Reading images from: /Users/mmchenry/Documents/Projects/DeepLabCut/preprocessing_examples/image_sequence/images/2022-01-25/\n",
      "    Making output movie file: /Users/mmchenry/Documents/Projects/DeepLabCut/preprocessing_examples/image_sequence/Videos/2022-01-25_1.mp4\n",
      "    Completed writing 174 frames\n",
      "Finished with 1 of 2 videos.\n",
      "    Reading images from: /Users/mmchenry/Documents/Projects/DeepLabCut/preprocessing_examples/image_sequence/images/2022-01-25/\n",
      "    Making output movie file: /Users/mmchenry/Documents/Projects/DeepLabCut/preprocessing_examples/image_sequence/Videos/2022-01-25_2.mp4\n",
      "    Completed writing 124 frames\n",
      "Finished with 2 of 2 videos.\n"
     ]
    },
    {
     "name": "stderr",
     "output_type": "stream",
     "text": [
      "ffmpeg version 5.0.1 Copyright (c) 2000-2022 the FFmpeg developers\n",
      "  built with Apple clang version 13.1.6 (clang-1316.0.21.2.5)\n",
      "  configuration: --prefix=/opt/homebrew/Cellar/ffmpeg/5.0.1_2 --enable-shared --enable-pthreads --enable-version3 --cc=clang --host-cflags= --host-ldflags= --enable-ffplay --enable-gnutls --enable-gpl --enable-libaom --enable-libbluray --enable-libdav1d --enable-libmp3lame --enable-libopus --enable-librav1e --enable-librist --enable-librubberband --enable-libsnappy --enable-libsrt --enable-libtesseract --enable-libtheora --enable-libvidstab --enable-libvmaf --enable-libvorbis --enable-libvpx --enable-libwebp --enable-libx264 --enable-libx265 --enable-libxml2 --enable-libxvid --enable-lzma --enable-libfontconfig --enable-libfreetype --enable-frei0r --enable-libass --enable-libopencore-amrnb --enable-libopencore-amrwb --enable-libopenjpeg --enable-libspeex --enable-libsoxr --enable-libzmq --enable-libzimg --disable-libjack --disable-indev=jack --enable-videotoolbox --enable-neon\n",
      "  libavutil      57. 17.100 / 57. 17.100\n",
      "  libavcodec     59. 18.100 / 59. 18.100\n",
      "  libavformat    59. 16.100 / 59. 16.100\n",
      "  libavdevice    59.  4.100 / 59.  4.100\n",
      "  libavfilter     8. 24.100 /  8. 24.100\n",
      "  libswscale      6.  4.100 /  6.  4.100\n",
      "  libswresample   4.  3.100 /  4.  3.100\n",
      "  libpostproc    56.  3.100 / 56.  3.100\n",
      "/Users/mmchenry/Documents/Projects/DeepLabCut/preprocessing_examples/image_sequence/images/2022-01-25/: Is a directory\n",
      "ffmpeg version 5.0.1 Copyright (c) 2000-2022 the FFmpeg developers\n",
      "  built with Apple clang version 13.1.6 (clang-1316.0.21.2.5)\n",
      "  configuration: --prefix=/opt/homebrew/Cellar/ffmpeg/5.0.1_2 --enable-shared --enable-pthreads --enable-version3 --cc=clang --host-cflags= --host-ldflags= --enable-ffplay --enable-gnutls --enable-gpl --enable-libaom --enable-libbluray --enable-libdav1d --enable-libmp3lame --enable-libopus --enable-librav1e --enable-librist --enable-librubberband --enable-libsnappy --enable-libsrt --enable-libtesseract --enable-libtheora --enable-libvidstab --enable-libvmaf --enable-libvorbis --enable-libvpx --enable-libwebp --enable-libx264 --enable-libx265 --enable-libxml2 --enable-libxvid --enable-lzma --enable-libfontconfig --enable-libfreetype --enable-frei0r --enable-libass --enable-libopencore-amrnb --enable-libopencore-amrwb --enable-libopenjpeg --enable-libspeex --enable-libsoxr --enable-libzmq --enable-libzimg --disable-libjack --disable-indev=jack --enable-videotoolbox --enable-neon\n",
      "  libavutil      57. 17.100 / 57. 17.100\n",
      "  libavcodec     59. 18.100 / 59. 18.100\n",
      "  libavformat    59. 16.100 / 59. 16.100\n",
      "  libavdevice    59.  4.100 / 59.  4.100\n",
      "  libavfilter     8. 24.100 /  8. 24.100\n",
      "  libswscale      6.  4.100 /  6.  4.100\n",
      "  libswresample   4.  3.100 /  4.  3.100\n",
      "  libpostproc    56.  3.100 / 56.  3.100\n",
      "/Users/mmchenry/Documents/Projects/DeepLabCut/preprocessing_examples/image_sequence/images/2022-01-25/: Is a directory\n"
     ]
    }
   ],
   "source": [
    "# Verbose mode shows more output (from ffmpeg)\n",
    "vMode = True\n",
    "\n",
    "# If using the catalog\n",
    "if useCat:\n",
    "    # Loop thru each video listed in catalog where make_video==1\n",
    "    for i in range(len(vDate)):\n",
    "        \n",
    "        # Paths for current output and input videos\n",
    "        vidOutPath = vidPath + os.path.sep + vDate[i] + '_' + str(trialNum[i]) + '.' + suffixOut\n",
    "        imagePath = imPath + os.path.sep + vDate[i] + os.path.sep\n",
    "\n",
    "        # Read number of frames from spreadsheet\n",
    "        frStart = int(startImageName[i][len(prefix):])\n",
    "        frEnd   = int(endImageName[i][len(prefix):])\n",
    "\n",
    "        # Match output with input frame rate\n",
    "        # fpsOut = fpsIn[i]\n",
    "\n",
    "        # Define ROI, if needed\n",
    "        if 'roiX' in locals():\n",
    "            r = [int(float(roiX[i])), int(float(roiY[i])), int(float(roiW[i])), int(float(roiH[i]))]\n",
    "            # r = [roiX[i], roiY[i], roiW[i], roiH[i]]\n",
    "        else:\n",
    "            r = None\n",
    "\n",
    "        # Create movie\n",
    "        vt.vid_from_seq(imagePath, vidOutPath, frStart=frStart, frEnd=frEnd, fps=fpsIn[i], imQuality=imQuality, prefix=prefix, nDigits=nDigits, inSuffix=suffixIn,downSample=downSample, vertPix=vertPix, roi=r, vMode=vMode)\n",
    "        \n",
    "        # Report counter\n",
    "        print('Finished with ' + str(i+1) + ' of ' + str(len(vDate)) + ' videos.')\n",
    "\n",
    "# If not using the catalog, convert all directories of images in imagePath\n",
    "else:\n",
    "\n",
    "    # Get all directories in imagePath\n",
    "    imageDirs = glob.glob(imPath  + os.path.sep + '*')\n",
    "\n",
    "    # Loop thru each directory\n",
    "    for currDir in imageDirs:\n",
    "\n",
    "        # Execute, if currDir is not a file\n",
    "        if os.path.isdir(currDir):\n",
    "            # Name video after directory\n",
    "            vidName = os.path.basename(os.path.normpath(currDir))\n",
    "            vidOutPath = vidPath + os.path.sep + vidName + '.' + suffixOut\n",
    "\n",
    "            # List of images\n",
    "            imFiles = glob.glob(currDir + os.path.sep + '*.' + suffixIn)\n",
    "\n",
    "            # Run, if images present\n",
    "            if len(imFiles)>0:\n",
    "                # Create movie\n",
    "                vt.vid_from_seq(currDir, vidOutPath, imQuality=imQuality, prefix=prefix, nDigits=nDigits, inSuffix=suffixIn,downSample=downSample, vertPix=vertPix, vMode=vMode)\n",
    "\n",
    "                # Report result\n",
    "                print('Finished converting ' + currDir)\n",
    "            else:\n",
    "                print('No images found in ' + currDir)"
   ]
  },
  {
   "cell_type": "markdown",
   "metadata": {},
   "source": [
    "# Working with movie files\n",
    "This example draws from videos saved as individual movie files. Example videos may be downloaded [here](https://drive.google.com/file/d/1_u4vb-7xDtzHxNtlZeRriFbXbdtCaQHN/view?usp=sharing)."
   ]
  },
  {
   "cell_type": "markdown",
   "metadata": {},
   "source": [
    "## Parameters\n",
    "Modify the paths listed below for your system."
   ]
  },
  {
   "cell_type": "code",
   "execution_count": 3,
   "metadata": {},
   "outputs": [],
   "source": [
    "# Change to for each computer\n",
    "root_path = '/Users/mmchenry/Documents/code/kineKit_files/movie_files'\n",
    "\n",
    "# Path to csv-formatted spreadsheet catalog of videos \n",
    "catPath  = root_path + os.path.sep + 'video_catalog.csv'\n",
    "\n",
    "# Path to output video (to be analyzed)\n",
    "vidOutPath   = root_path + os.path.sep + 'Compressed_videos'\n",
    "\n",
    "# Path to output the new videos, which will be analyzed with DLC\n",
    "vidInPath  = root_path + os.path.sep + 'Raw_videos'\n",
    "\n",
    "# If the output video is to be downsampled\n",
    "downSample = True\n",
    "\n",
    "# Number of pixels in verical dimension, if downsampling\n",
    "vertPix = 480\n",
    "\n",
    "# Suffix for source images or movies\n",
    "suffixIn = 'mov'\n",
    "\n",
    "# Suffix for output movies\n",
    "suffixOut = 'mp4'\n",
    "\n",
    "# Image quality (low to high: 0 to 1) for output video\n",
    "# imQuality = 0.75\n",
    "imQuality = 0.35\n",
    "\n",
    "# Whether to rename video files by date, trial_num, and a word\n",
    "renameFiles = True\n",
    "fileword = 'light'"
   ]
  },
  {
   "cell_type": "markdown",
   "metadata": {},
   "source": [
    "## Read catalog of movie files\n",
    "\n",
    "Imports the contents of the spreadsheet for the pre-processing job."
   ]
  },
  {
   "cell_type": "code",
   "execution_count": 14,
   "metadata": {},
   "outputs": [],
   "source": [
    "# Open CSV file\n",
    "file = open(catPath)\n",
    "\n",
    "# Import CSV data\n",
    "d = pd.read_csv(file)\n",
    "\n",
    "# Extract only the 'make_video==1' rows\n",
    "d = d.loc[d.make_video==1]\n",
    "\n",
    "# Reset indices for the new rows\n",
    "d = d.reset_index(drop=True)\n",
    "\n",
    "# Number of videos to analyze\n",
    "nVids = int(np.nansum(d.make_video))\n",
    "\n",
    "# Extract mandatory parameters\n",
    "vDate           = d.date.astype(str)\n",
    "trialNum        = d.trial_num.astype(int)\n",
    "trialNum        = trialNum.map(\"{:03}\".format)\n",
    "\n",
    "# If filename not listed in catalog, then specify scheme for filenames\n",
    "if not ('filename' in d):\n",
    "    filenameIn = vDate + '_' + trialNum + '_' + fileword\n",
    "\n",
    "# If input video filename specified in catalog\n",
    "else:\n",
    "    filenameIn = d.filename[d.make_video==1].astype(str)  \n",
    "\n",
    "if renameFiles:\n",
    "    filenameOut = vDate + '_' + trialNum + '_' + fileword\n",
    "else:\n",
    "    filenameOut = filenameIn\n",
    "\n",
    "# Get start and end frame numbers\n",
    "if 'frame_start' in d:\n",
    "    frameStart  = d.frame_start[d.make_video==1].astype(int)\n",
    "    frameEnd    = d.frame_end[d.make_video==1].astype(int)\n",
    "\n",
    "# If roi is provided\n",
    "if 'roi_x' in d:\n",
    "    roiX = d.roi_x.astype(str)\n",
    "    roiY = d.roi_y.astype(str)\n",
    "    roiW = d.roi_w.astype(str)\n",
    "    roiH = d.roi_h.astype(str)\n",
    "\n",
    "# Close CSV file\n",
    "file.close()"
   ]
  },
  {
   "cell_type": "markdown",
   "metadata": {},
   "source": [
    "## Generate videos from movie files"
   ]
  },
  {
   "cell_type": "code",
   "execution_count": 15,
   "metadata": {},
   "outputs": [
    {
     "ename": "TypeError",
     "evalue": "vid_convert() got an unexpected keyword argument 'frStart'",
     "output_type": "error",
     "traceback": [
      "\u001b[0;31m---------------------------------------------------------------------------\u001b[0m",
      "\u001b[0;31mTypeError\u001b[0m                                 Traceback (most recent call last)",
      "\u001b[1;32m/Users/mmchenry/Documents/code/kineKit/notebooks/dlc_preprocess.ipynb Cell 17\u001b[0m in \u001b[0;36m<cell line: 5>\u001b[0;34m()\u001b[0m\n\u001b[1;32m     <a href='vscode-notebook-cell:/Users/mmchenry/Documents/code/kineKit/notebooks/dlc_preprocess.ipynb#X22sZmlsZQ%3D%3D?line=23'>24</a>\u001b[0m     r \u001b[39m=\u001b[39m \u001b[39mNone\u001b[39;00m\n\u001b[1;32m     <a href='vscode-notebook-cell:/Users/mmchenry/Documents/code/kineKit/notebooks/dlc_preprocess.ipynb#X22sZmlsZQ%3D%3D?line=25'>26</a>\u001b[0m \u001b[39m# Create movie\u001b[39;00m\n\u001b[0;32m---> <a href='vscode-notebook-cell:/Users/mmchenry/Documents/code/kineKit/notebooks/dlc_preprocess.ipynb#X22sZmlsZQ%3D%3D?line=26'>27</a>\u001b[0m vt\u001b[39m.\u001b[39;49mvid_convert(vInPath, vOutPath, frStart\u001b[39m=\u001b[39;49mfrStart, frEnd\u001b[39m=\u001b[39;49mfrEnd, imQuality\u001b[39m=\u001b[39;49mimQuality, downSample\u001b[39m=\u001b[39;49mdownSample, vertPix\u001b[39m=\u001b[39;49mvertPix, roi\u001b[39m=\u001b[39;49mr, vMode\u001b[39m=\u001b[39;49mvMode)\n\u001b[1;32m     <a href='vscode-notebook-cell:/Users/mmchenry/Documents/code/kineKit/notebooks/dlc_preprocess.ipynb#X22sZmlsZQ%3D%3D?line=28'>29</a>\u001b[0m \u001b[39mprint\u001b[39m(\u001b[39m'\u001b[39m\u001b[39mFinished with \u001b[39m\u001b[39m'\u001b[39m \u001b[39m+\u001b[39m \u001b[39mstr\u001b[39m(i\u001b[39m+\u001b[39m\u001b[39m1\u001b[39m) \u001b[39m+\u001b[39m \u001b[39m'\u001b[39m\u001b[39m of \u001b[39m\u001b[39m'\u001b[39m \u001b[39m+\u001b[39m \u001b[39mstr\u001b[39m(\u001b[39mlen\u001b[39m(vDate)) \u001b[39m+\u001b[39m \u001b[39m'\u001b[39m\u001b[39m videos.\u001b[39m\u001b[39m'\u001b[39m)\n",
      "\u001b[0;31mTypeError\u001b[0m: vid_convert() got an unexpected keyword argument 'frStart'"
     ]
    }
   ],
   "source": [
    "# Verbose mode shows more output from ffmpeg\n",
    "vMode = False\n",
    "\n",
    "# Loop thru each video listed in catalog where make_video==1\n",
    "for i in range(len(vDate)):\n",
    "    \n",
    "    # Paths for current output and input videos\n",
    "    vInPath    = vidInPath + os.path.sep + filenameIn[i] + '.' + suffixIn\n",
    "    vOutPath   = vidOutPath + os.path.sep + filenameOut[i] + '.' + suffixOut\n",
    "\n",
    "    # Define ROI, if requested\n",
    "    if 'roiX' in locals():\n",
    "        # r = [roiX[i], roiY[i], roiW[i], roiH[i]]\n",
    "        r = [int(float(roiX[i])), int(float(roiY[i])), int(float(roiW[i])), int(float(roiH[i]))]\n",
    "    else:\n",
    "        r = None\n",
    "\n",
    "    # Create movie\n",
    "    vt.vid_convert(vInPath, vOutPath, imQuality=imQuality, downSample=downSample, vertPix=vertPix, roi=r, vMode=vMode)\n",
    "\n",
    "    print('Finished with ' + str(i+1) + ' of ' + str(len(vDate)) + ' videos.')"
   ]
  },
  {
   "cell_type": "markdown",
   "metadata": {},
   "source": [
    "# Manually select a region of interest ------------\n",
    "You can run this code to interactively select a roi from the first frame of the first video in the list of movie files. You can enter the resulting values into the video catalog.\n",
    "\n",
    "vt.find_roi can accept either an image or movie.\n",
    "\n",
    "This code can be unreliable on my Mac, so imageJ or other software may be a better solution for measuring the roi.\n",
    "\n",
    "Note that I get better results by clicking on the spacebar after selecting the ROI. It sometimes helps to also select the window header before clicking on the spacebar."
   ]
  },
  {
   "cell_type": "code",
   "execution_count": null,
   "metadata": {},
   "outputs": [],
   "source": [
    "# Adjust this to the intended movie\n",
    "inPath = '/Users/mmchenry/Documents/Projects/DeepLabCut/preprocessing_examples/movie_files/Raw_videos/2022-01-25_001.mov'\n",
    "\n",
    "# Path to image sequence\n",
    "# inPath = '/Users/mmchenry/Documents/Projects/DeepLabCut/preprocessing_examples/image_sequence/images/2022-01-25/DSC00849.jpeg'\n",
    "\n",
    "# Find the ROI\n",
    "r =  vt.find_roi(inPath)\n",
    "print(r)"
   ]
  },
  {
   "cell_type": "code",
   "execution_count": null,
   "metadata": {},
   "outputs": [],
   "source": []
  }
 ],
 "metadata": {
  "kernelspec": {
   "display_name": "Python 3.9.7 ('videoTools')",
   "language": "python",
   "name": "python3"
  },
  "language_info": {
   "codemirror_mode": {
    "name": "ipython",
    "version": 3
   },
   "file_extension": ".py",
   "mimetype": "text/x-python",
   "name": "python",
   "nbconvert_exporter": "python",
   "pygments_lexer": "ipython3",
   "version": "3.9.7"
  },
  "orig_nbformat": 4,
  "vscode": {
   "interpreter": {
    "hash": "704b9ce594168d67babdc22e621c35e32a5c0e594a9d61403fb7185fea7bc7ea"
   }
  }
 },
 "nbformat": 4,
 "nbformat_minor": 2
}
